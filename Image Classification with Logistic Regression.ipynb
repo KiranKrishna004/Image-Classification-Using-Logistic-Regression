{
 "cells": [
  {
   "cell_type": "code",
   "execution_count": 1,
   "id": "0dd0b777",
   "metadata": {},
   "outputs": [],
   "source": [
    "import torch\n",
    "import torchvision\n",
    "from torchvision.datasets import MNIST\n",
    "import matplotlib.pyplot as plt\n",
    "import torchvision.transforms as transforms\n",
    "%matplotlib inline\n",
    "import numpy as np\n",
    "from torch.utils.data.sampler import SubsetRandomSampler\n",
    "from torch.utils.data.dataloader import DataLoader\n",
    "import torch.nn as nn\n",
    "import torch.nn.functional as F"
   ]
  },
  {
   "cell_type": "code",
   "execution_count": 2,
   "id": "2cc9885f",
   "metadata": {},
   "outputs": [],
   "source": [
    "#make training dataset and download it if we dont have it \n",
    "dataset=MNIST(root='data/',download=True)"
   ]
  },
  {
   "cell_type": "code",
   "execution_count": 3,
   "id": "75bed56a",
   "metadata": {},
   "outputs": [
    {
     "data": {
      "text/plain": [
       "60000"
      ]
     },
     "execution_count": 3,
     "metadata": {},
     "output_type": "execute_result"
    }
   ],
   "source": [
    "len(dataset)"
   ]
  },
  {
   "cell_type": "code",
   "execution_count": 4,
   "id": "e60e1f7e",
   "metadata": {},
   "outputs": [],
   "source": [
    "#make test dataset keeping train as False\n",
    "test_dataset=MNIST(root='data/',train=False)"
   ]
  },
  {
   "cell_type": "code",
   "execution_count": 5,
   "id": "0bcb83d0",
   "metadata": {},
   "outputs": [
    {
     "data": {
      "text/plain": [
       "(<PIL.Image.Image image mode=L size=28x28 at 0x21E321F8CD0>, 5)"
      ]
     },
     "execution_count": 5,
     "metadata": {},
     "output_type": "execute_result"
    }
   ],
   "source": [
    "dataset[0]"
   ]
  },
  {
   "cell_type": "code",
   "execution_count": 6,
   "id": "838c93ca",
   "metadata": {},
   "outputs": [
    {
     "name": "stdout",
     "output_type": "stream",
     "text": [
      "Label:  5\n"
     ]
    },
    {
     "data": {
      "image/png": "[encoded data removed]",
      "text/plain": [
       "<Figure size 432x288 with 1 Axes>"
      ]
     },
     "metadata": {
      "needs_background": "light"
     },
     "output_type": "display_data"
    }
   ],
   "source": [
    "#Plotting the whole image of index 0\n",
    "image,label=dataset[0]\n",
    "plt.imshow(image,cmap='gray')\n",
    "print('Label: ',label)"
   ]
  },
  {
   "cell_type": "code",
   "execution_count": 7,
   "id": "665b5514",
   "metadata": {},
   "outputs": [
    {
     "name": "stdout",
     "output_type": "stream",
     "text": [
      "Label:  2\n"
     ]
    },
    {
     "data": {
      "image/png": "[encoded data removed]",
      "text/plain": [
       "<Figure size 432x288 with 1 Axes>"
      ]
     },
     "metadata": {
      "needs_background": "light"
     },
     "output_type": "display_data"
    }
   ],
   "source": [
    "#Plotting the whole image of index 5\n",
    "image,label=dataset[5]\n",
    "plt.imshow(image,cmap='gray')\n",
    "print('Label: ',label)"
   ]
  },
  {
   "cell_type": "code",
   "execution_count": 8,
   "id": "53bac04a",
   "metadata": {},
   "outputs": [],
   "source": [
    "#changing the PIL image format to tensor format\n",
    "dataset=MNIST(root='data/',\n",
    "              train=True,\n",
    "              transform=transforms.ToTensor())"
   ]
  },
  {
   "cell_type": "code",
   "execution_count": 9,
   "id": "3ab14bda",
   "metadata": {},
   "outputs": [
    {
     "name": "stdout",
     "output_type": "stream",
     "text": [
      "torch.Size([1, 28, 28]) 5\n"
     ]
    }
   ],
   "source": [
    "img_tensor, label=dataset[0]\n",
    "print(img_tensor.shape,label)"
   ]
  },
  {
   "cell_type": "code",
   "execution_count": 10,
   "id": "5798da8c",
   "metadata": {},
   "outputs": [
    {
     "name": "stdout",
     "output_type": "stream",
     "text": [
      "tensor([[[0.0039, 0.6039, 0.9922, 0.3529, 0.0000],\n",
      "         [0.0000, 0.5451, 0.9922, 0.7451, 0.0078],\n",
      "         [0.0000, 0.0431, 0.7451, 0.9922, 0.2745],\n",
      "         [0.0000, 0.0000, 0.1373, 0.9451, 0.8824],\n",
      "         [0.0000, 0.0000, 0.0000, 0.3176, 0.9412]]])\n",
      "tensor(1.) tensor(0.)\n"
     ]
    }
   ],
   "source": [
    "#Value of the image between the height 10-15 and width 10-15\n",
    "print(img_tensor[:,10:15,10:15])\n",
    "print(torch.max(img_tensor),torch.min(img_tensor))"
   ]
  },
  {
   "cell_type": "code",
   "execution_count": 11,
   "id": "9f34bf3e",
   "metadata": {},
   "outputs": [
    {
     "name": "stdout",
     "output_type": "stream",
     "text": [
      "tensor(1.) tensor(0.)\n"
     ]
    },
    {
     "data": {
      "image/png": "[encoded data removed]",
      "text/plain": [
       "<Figure size 432x288 with 1 Axes>"
      ]
     },
     "metadata": {
      "needs_background": "light"
     },
     "output_type": "display_data"
    }
   ],
   "source": [
    "#Plotting the image between the height 10-15 and width 10-15\n",
    "plt.imshow(img_tensor[0,10:15,10:15],cmap='gray')\n",
    "print(torch.max(img_tensor),torch.min(img_tensor))"
   ]
  },
  {
   "cell_type": "code",
   "execution_count": 12,
   "id": "693c2515",
   "metadata": {},
   "outputs": [],
   "source": [
    "#method to split the dataset into trainng and validation sets\n",
    "def split(n,val):\n",
    "    #Determine size of validation set\n",
    "    n_val=int(val*n)\n",
    "    #Create random permutation of 0 to n-1\n",
    "    index=np.random.permutation(n)\n",
    "    #Pick first n_val indices for validation set\n",
    "    return index[n_val:],index[:n_val]"
   ]
  },
  {
   "cell_type": "code",
   "execution_count": 13,
   "id": "8383f961",
   "metadata": {},
   "outputs": [],
   "source": [
    "#Split the data into training and validation set\n",
    "train_indices,val_indices=split(len(dataset),val=0.2)"
   ]
  },
  {
   "cell_type": "code",
   "execution_count": 14,
   "id": "b1afc0d5",
   "metadata": {},
   "outputs": [],
   "source": [
    "batch_size=100\n",
    "#Training sampler and data loader\n",
    "train_sampler=SubsetRandomSampler(train_indices)\n",
    "train_loader=DataLoader(dataset,\n",
    "                       batch_size,\n",
    "                       sampler=train_sampler)\n",
    "\n",
    "#Validation sampler and data loader\n",
    "val_sampler=SubsetRandomSampler(val_indices)\n",
    "val_loader=DataLoader(dataset,\n",
    "                       batch_size,\n",
    "                       sampler=val_sampler)"
   ]
  },
  {
   "cell_type": "code",
   "execution_count": 15,
   "id": "5bbe936d",
   "metadata": {},
   "outputs": [],
   "source": [
    "#flatenning out the image tensor in a vector size of 784(28*28)\n",
    "input_size=28*28\n",
    "#output of each image is a vector of size 10\n",
    "num_classes=10\n",
    "#Logistic Regression model\n",
    "model=nn.Linear(input_size,num_classes)"
   ]
  },
  {
   "cell_type": "code",
   "execution_count": 16,
   "id": "4692c9ff",
   "metadata": {},
   "outputs": [
    {
     "name": "stdout",
     "output_type": "stream",
     "text": [
      "torch.Size([10, 784])\n",
      "torch.Size([10])\n"
     ]
    }
   ],
   "source": [
    "#checking the bias and the wieghts\n",
    "print(model.weight.shape)\n",
    "print(model.bias.shape)"
   ]
  },
  {
   "cell_type": "code",
   "execution_count": 17,
   "id": "b7c41b88",
   "metadata": {},
   "outputs": [],
   "source": [
    "# for images,labels in train_loader:\n",
    "#     print(labels)\n",
    "#     print(images.shape)\n",
    "#     ouputs=model(images)\n",
    "#     break"
   ]
  },
  {
   "cell_type": "code",
   "execution_count": 18,
   "id": "ab97eaa0",
   "metadata": {},
   "outputs": [],
   "source": [
    "#Creating own model with nn.Module so that we could reshape the output\n",
    "class MnistModel(nn.Module):\n",
    "    def __init__(self):\n",
    "        super().__init__()\n",
    "        self.linear=nn.Linear(input_size,num_classes)\n",
    "    def forward(self,xb):\n",
    "        xb=xb.reshape(-1,784)\n",
    "        out=self.linear(xb)\n",
    "        return out\n",
    "model=MnistModel()"
   ]
  },
  {
   "cell_type": "code",
   "execution_count": 19,
   "id": "9bc48662",
   "metadata": {},
   "outputs": [
    {
     "name": "stdout",
     "output_type": "stream",
     "text": [
      "ouputs.shape:  torch.Size([100, 10])\n",
      "Sample ouputs: \n",
      " tensor([[ 1.1469e-01, -3.4256e-02,  1.3428e-01, -1.6378e-01, -3.3241e-01,\n",
      "         -6.4652e-05,  7.3024e-02, -1.2871e-02, -8.7259e-02, -1.6835e-02],\n",
      "        [ 1.6443e-01, -6.5333e-02,  7.1672e-02, -2.5387e-01, -2.3507e-01,\n",
      "         -8.0857e-02, -4.3228e-02, -2.1537e-01,  1.7341e-01, -1.6588e-01]])\n"
     ]
    }
   ],
   "source": [
    "#Output the Ouput to find the shape and values\n",
    "for images,label in train_loader:\n",
    "    outputs=model(images)\n",
    "    break\n",
    "print('ouputs.shape: ',outputs.shape)\n",
    "print('Sample ouputs: \\n',outputs[:2].data)"
   ]
  },
  {
   "cell_type": "code",
   "execution_count": 20,
   "id": "076fdbb0",
   "metadata": {},
   "outputs": [
    {
     "name": "stdout",
     "output_type": "stream",
     "text": [
      "Sample Probs:\n",
      " tensor([[0.1149, 0.0990, 0.1172, 0.0870, 0.0735, 0.1024, 0.1102, 0.1011, 0.0939,\n",
      "         0.1007],\n",
      "        [0.1244, 0.0988, 0.1133, 0.0818, 0.0834, 0.0973, 0.1010, 0.0851, 0.1255,\n",
      "         0.0894]])\n",
      "Sum:  0.9999999403953552\n"
     ]
    }
   ],
   "source": [
    "#Apply softmax for each output row\n",
    "probs=F.softmax(outputs,dim=1)\n",
    "\n",
    "#Print the Probablitites\n",
    "print('Sample Probs:\\n',probs[:2].data)\n",
    "\n",
    "#add up the probs of an output row\n",
    "print('Sum: ',torch.sum(probs[0]).item())"
   ]
  },
  {
   "cell_type": "code",
   "execution_count": 21,
   "id": "830af4d5",
   "metadata": {},
   "outputs": [
    {
     "name": "stdout",
     "output_type": "stream",
     "text": [
      "tensor([2, 8, 2, 2, 1, 8, 1, 0, 6, 7, 6, 0, 8, 1, 2, 2, 6, 2, 6, 6, 1, 2, 6, 2,\n",
      "        0, 8, 1, 0, 6, 8, 1, 1, 8, 8, 6, 2, 8, 2, 6, 6, 6, 8, 2, 2, 2, 0, 6, 1,\n",
      "        1, 8, 8, 2, 5, 2, 1, 8, 2, 8, 6, 2, 1, 2, 2, 8, 6, 2, 2, 8, 8, 8, 2, 6,\n",
      "        0, 2, 2, 6, 2, 8, 5, 1, 6, 8, 6, 6, 2, 2, 7, 6, 2, 8, 2, 2, 6, 6, 2, 8,\n",
      "        8, 2, 2, 6])\n",
      "tensor([0.1172, 0.1255, 0.1347, 0.1404, 0.1241, 0.1210, 0.1320, 0.1162, 0.1291,\n",
      "        0.1248, 0.1388, 0.1211, 0.1417, 0.1257, 0.1394, 0.1244, 0.1441, 0.1395,\n",
      "        0.1484, 0.1305, 0.1530, 0.1240, 0.1216, 0.1252, 0.1144, 0.1354, 0.1270,\n",
      "        0.1289, 0.1346, 0.1373, 0.1361, 0.1429, 0.1226, 0.1536, 0.1230, 0.1314,\n",
      "        0.1346, 0.1350, 0.1363, 0.1388, 0.1124, 0.1230, 0.1482, 0.1314, 0.1208,\n",
      "        0.1196, 0.1266, 0.1254, 0.1243, 0.1275, 0.1309, 0.1295, 0.1222, 0.1267,\n",
      "        0.1470, 0.1240, 0.1211, 0.1674, 0.1273, 0.1321, 0.1162, 0.1354, 0.1218,\n",
      "        0.1502, 0.1322, 0.1248, 0.1313, 0.1299, 0.1268, 0.1373, 0.1294, 0.1302,\n",
      "        0.1247, 0.1247, 0.1443, 0.1496, 0.1325, 0.1296, 0.1323, 0.1579, 0.1152,\n",
      "        0.1221, 0.1484, 0.1830, 0.1262, 0.1236, 0.1219, 0.1165, 0.1175, 0.1382,\n",
      "        0.1246, 0.1216, 0.1312, 0.1197, 0.1417, 0.1137, 0.1182, 0.1281, 0.1280,\n",
      "        0.1432], grad_fn=<MaxBackward0>)\n"
     ]
    }
   ],
   "source": [
    "#prediction \n",
    "max_probs,preds=torch.max(probs,dim=1)\n",
    "print(preds)\n",
    "print(max_probs)"
   ]
  },
  {
   "cell_type": "code",
   "execution_count": 22,
   "id": "f3b48554",
   "metadata": {},
   "outputs": [
    {
     "data": {
      "text/plain": [
       "tensor([1, 1, 5, 8, 9, 4, 4, 1, 3, 3, 7, 1, 5, 5, 3, 1, 0, 6, 0, 1, 2, 1, 6, 5,\n",
       "        5, 4, 4, 8, 8, 6, 0, 2, 0, 8, 1, 3, 3, 9, 7, 7, 1, 9, 4, 1, 4, 7, 1, 0,\n",
       "        5, 6, 5, 1, 5, 2, 4, 5, 1, 6, 5, 7, 0, 4, 4, 4, 2, 7, 4, 4, 7, 5, 4, 8,\n",
       "        8, 5, 4, 0, 8, 6, 8, 7, 7, 7, 0, 7, 8, 6, 7, 0, 3, 9, 5, 1, 8, 5, 1, 7,\n",
       "        5, 3, 6, 2])"
      ]
     },
     "execution_count": 22,
     "metadata": {},
     "output_type": "execute_result"
    }
   ],
   "source": [
    "#actual\n",
    "label"
   ]
  },
  {
   "cell_type": "code",
   "execution_count": 23,
   "id": "69553b06",
   "metadata": {},
   "outputs": [],
   "source": [
    "#Find the Accuracy\n",
    "def accuracy(l1,l2):\n",
    "    return torch.sum(l1==l2).item()/len(l1)"
   ]
  },
  {
   "cell_type": "code",
   "execution_count": 24,
   "id": "5a3d34e8",
   "metadata": {},
   "outputs": [
    {
     "data": {
      "text/plain": [
       "0.05"
      ]
     },
     "execution_count": 24,
     "metadata": {},
     "output_type": "execute_result"
    }
   ],
   "source": [
    "accuracy(preds,label)"
   ]
  },
  {
   "cell_type": "code",
   "execution_count": 25,
   "id": "b7335cf1",
   "metadata": {},
   "outputs": [
    {
     "name": "stdout",
     "output_type": "stream",
     "text": [
      "tensor(2.3351, grad_fn=<NllLossBackward0>)\n"
     ]
    }
   ],
   "source": [
    "#torch.max is not differentiable so mse can't be used\n",
    "#so we do cross entropy\n",
    "loss_fn=F.cross_entropy\n",
    "loss=loss_fn(outputs,label)\n",
    "print(loss)"
   ]
  },
  {
   "cell_type": "code",
   "execution_count": 26,
   "id": "f71993bb",
   "metadata": {},
   "outputs": [],
   "source": [
    "#optimizer\n",
    "learning_rate=0.001\n",
    "optimizer=torch.optim.SGD(model.parameters(),lr=learning_rate)"
   ]
  },
  {
   "cell_type": "code",
   "execution_count": 27,
   "id": "94fd2aac",
   "metadata": {},
   "outputs": [],
   "source": [
    "def loss_batch(model,loss_func,xb,yb,opt=None,metric=None):\n",
    "    #Calculate loss\n",
    "    preds=model(xb)\n",
    "    loss=loss_fn(preds,yb)\n",
    "    \n",
    "    #to optimize\n",
    "    if opt is not None:\n",
    "        loss.backward()\n",
    "        opt.step()\n",
    "        opt.zero_grad()\n",
    "        \n",
    "    #to find the acc\n",
    "    metric_result=None\n",
    "    if metric is not None:\n",
    "        #compute the metric\n",
    "        metric_result=metric(preds,yb)\n",
    "    return loss.item(),len(xb),metric_result"
   ]
  },
  {
   "cell_type": "code",
   "execution_count": 28,
   "id": "2a0b12c6",
   "metadata": {},
   "outputs": [],
   "source": [
    "#use the Validation set to check the loss the model\n",
    "def evaluate(model,loss_fn,valid_dl,metric=None):\n",
    "    with torch.no_grad():\n",
    "        #pass each batch through the model\n",
    "        results=[loss_batch(model,loss_fn,xb,yb,metric=metric)for xb,yb in valid_dl]\n",
    "        \n",
    "        #seperate losses, counts and metrics\n",
    "        losses,nums,metrics=zip(*results)\n",
    "        \n",
    "        #Total size of the dataset\n",
    "        total=np.sum(nums)\n",
    "        \n",
    "        #average loss accross batches\n",
    "        avg_loss=np.sum(np.multiply(losses,nums))/total\n",
    "        avg_metric=None\n",
    "        if metric is not None:\n",
    "            #average of metric accross batches\n",
    "            avg_metric=np.sum(np.multiply(metrics,nums))/total\n",
    "    return avg_loss,total,avg_metric"
   ]
  },
  {
   "cell_type": "code",
   "execution_count": 29,
   "id": "6dba82cf",
   "metadata": {},
   "outputs": [],
   "source": [
    "def accuracy(outputs,labels):\n",
    "    _,preds=torch.max(outputs,dim=1)\n",
    "    return torch.sum(preds==labels).item()/len(preds)"
   ]
  },
  {
   "cell_type": "code",
   "execution_count": 30,
   "id": "05dd86de",
   "metadata": {},
   "outputs": [
    {
     "name": "stdout",
     "output_type": "stream",
     "text": [
      "Loss: 2.3436,Accuracy: 0.0669\n"
     ]
    }
   ],
   "source": [
    "#Output the Validation set accuracy and loss\n",
    "val_loss,total,val_acc=evaluate(model,loss_fn,val_loader,metric=accuracy)\n",
    "print('Loss: {:.4f},Accuracy: {:.4f}'.format(val_loss,val_acc))"
   ]
  },
  {
   "cell_type": "code",
   "execution_count": 31,
   "id": "58b3fe38",
   "metadata": {},
   "outputs": [],
   "source": [
    "#Training the model with epochs\n",
    "def fit(epochs,model,loss_fn,opt,train_dl,valid_dl,metric=None):\n",
    "    for epoch in range(epochs):\n",
    "        #Training\n",
    "        for xb,yb in train_dl:\n",
    "            loss,_,_=loss_batch(model,loss_fn,xb,yb,opt)\n",
    "        \n",
    "        #Evaluation \n",
    "        result=evaluate(model,loss_fn,valid_dl,metric)\n",
    "        val_loss,total,val_metric=result\n",
    "        \n",
    "        #print\n",
    "        if metric is None:\n",
    "            print('Epoch[{}/{}], Loss: {:.4f}'.format(epoch+1,epochs,val_loss))\n",
    "        else:\n",
    "            print('Epoch[{}/{}], Loss: {:.4f}, {}: {:.4f}'.format(epoch+1,epochs,val_loss,metric.__name__,val_metric))"
   ]
  },
  {
   "cell_type": "code",
   "execution_count": 32,
   "id": "7c19d55f",
   "metadata": {},
   "outputs": [],
   "source": [
    "#Redefine model and Optimizer\n",
    "model=MnistModel()\n",
    "optimizer=torch.optim.SGD(model.parameters(),lr=learning_rate)"
   ]
  },
  {
   "cell_type": "code",
   "execution_count": null,
   "id": "e4248184",
   "metadata": {},
   "outputs": [
    {
     "name": "stdout",
     "output_type": "stream",
     "text": [
      "Epoch[1/5], Loss: 1.8938, accuracy: 0.6674\n",
      "Epoch[2/5], Loss: 1.5890, accuracy: 0.7632\n"
     ]
    }
   ],
   "source": [
    "fit(5,model,F.cross_entropy,optimizer,train_loader,val_loader,accuracy)"
   ]
  },
  {
   "cell_type": "code",
   "execution_count": null,
   "id": "4ead338d",
   "metadata": {},
   "outputs": [],
   "source": [
    "fit(5,model,F.cross_entropy,optimizer,train_loader,val_loader,accuracy)"
   ]
  },
  {
   "cell_type": "code",
   "execution_count": null,
   "id": "f21b2fd4",
   "metadata": {},
   "outputs": [],
   "source": []
  }
 ],
 "metadata": {
  "kernelspec": {
   "display_name": "Python 3",
   "language": "python",
   "name": "python3"
  },
  "language_info": {
   "codemirror_mode": {
    "name": "ipython",
    "version": 3
   },
   "file_extension": ".py",
   "mimetype": "text/x-python",
   "name": "python",
   "nbconvert_exporter": "python",
   "pygments_lexer": "ipython3",
   "version": "3.8.8"
  }
 },
 "nbformat": 4,
 "nbformat_minor": 5
}
